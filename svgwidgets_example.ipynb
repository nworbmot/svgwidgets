{
 "metadata": {
  "name": "",
  "signature": "sha256:2b36aee595244a61ee6b3a52486411bd6024d2c716a615fd9f6161b6ede261f3"
 },
 "nbformat": 3,
 "nbformat_minor": 0,
 "worksheets": [
  {
   "cells": [
    {
     "cell_type": "code",
     "collapsed": false,
     "input": [
      "import svgwidgets"
     ],
     "language": "python",
     "metadata": {},
     "outputs": [],
     "prompt_number": 26
    },
    {
     "cell_type": "code",
     "collapsed": false,
     "input": [
      "svg = svgwidgets.SVGWidget()\n",
      "\n",
      "rect = svgwidgets.RectWidget()\n",
      "circle = svgwidgets.CircleWidget()\n",
      "ellipse = svgwidgets.EllipseWidget()\n",
      "line = svgwidgets.LineWidget()\n",
      "path = svgwidgets.PathWidget()\n",
      "\n",
      "\n",
      "svg.children = [rect,circle,ellipse,line,path]\n",
      "\n",
      "display(svg)"
     ],
     "language": "python",
     "metadata": {},
     "outputs": [],
     "prompt_number": 27
    },
    {
     "cell_type": "code",
     "collapsed": false,
     "input": [
      "colors = [\"red\",\"orange\",\"yellow\",\"green\",\"blue\"]\n",
      "\n",
      "svg.height = 150\n",
      "svg.children = [svgwidgets.RectWidget(x=15+i*30,y=10,width=20,height=80,fill=color,stroke=\"black\") for i,color in enumerate(colors)] + \\\n",
      "               [svgwidgets.CircleWidget(cx=25+i*30,cy=110,rx=15,fill=color,stroke=\"black\") for i,color in enumerate(colors)]"
     ],
     "language": "python",
     "metadata": {},
     "outputs": [],
     "prompt_number": 29
    }
   ],
   "metadata": {}
  }
 ]
}