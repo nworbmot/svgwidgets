{
 "metadata": {
  "name": "",
  "signature": "sha256:3892cbef542073f45f10d2be4a74f2d56e114f408f290afa7c9f161a6a64a3a0"
 },
 "nbformat": 3,
 "nbformat_minor": 0,
 "worksheets": [
  {
   "cells": [
    {
     "cell_type": "code",
     "collapsed": false,
     "input": [
      "import svgwidgets"
     ],
     "language": "python",
     "metadata": {},
     "outputs": [],
     "prompt_number": 8
    },
    {
     "cell_type": "code",
     "collapsed": false,
     "input": [
      "svg = svgwidgets.SVGWidget()\n",
      "rect = svgwidgets.RectWidget()\n",
      "svg.children = [rect]\n",
      "svg"
     ],
     "language": "python",
     "metadata": {},
     "outputs": [],
     "prompt_number": 9
    },
    {
     "cell_type": "code",
     "collapsed": false,
     "input": [
      "svg.height = 200\n",
      "svg.children = [svgwidgets.RectWidget(x=i*20,width=10,fill=\"green\") for i in range(15)]"
     ],
     "language": "python",
     "metadata": {},
     "outputs": [],
     "prompt_number": 10
    }
   ],
   "metadata": {}
  }
 ]
}