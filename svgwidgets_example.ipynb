{
 "metadata": {
  "name": "",
  "signature": "sha256:206e763aa0924037943243ac6435af9ffb1c076798c533c72134d83f36e6b49c"
 },
 "nbformat": 3,
 "nbformat_minor": 0,
 "worksheets": [
  {
   "cells": [
    {
     "cell_type": "markdown",
     "metadata": {},
     "source": [
      "# Examples of library svgwidgets: SVG widgets for the iPython notebook\n",
      "\n",
      "Get the library here:\n",
      "\n",
      "https://github.com/nworbmot/svgwidgets\n",
      "\n",
      "This is a library of Scalar Vector Graphic (SVG) widgets for the iPython notebook (widgets are available in iPython version 2.0 onwards). Widgets allow easy synchronisation of objects between the Python backend and Javascript/DOM frontend. This library implements this functionality for SVG elements.\n",
      "\n",
      "Currently it is only a demonstration of the functionality; more useful features will be added soon.\n",
      "\n",
      "Some basic examples are shown here."
     ]
    },
    {
     "cell_type": "code",
     "collapsed": false,
     "input": [
      "import svgwidgets"
     ],
     "language": "python",
     "metadata": {},
     "outputs": [],
     "prompt_number": 1
    },
    {
     "cell_type": "markdown",
     "metadata": {},
     "source": [
      "## Example of different elements, added individually\n",
      "\n",
      "Each SVG widget has defaults for positions and styles which can be changed.\n",
      "\n",
      "There is a widget for each SVG element.\n",
      "\n",
      "SVGWidget and GroupWidget can have child elements, which are added with element.children = [child1,child2,..] just like the standard iPython ContainerWidget."
     ]
    },
    {
     "cell_type": "code",
     "collapsed": false,
     "input": [
      "\n",
      "svg = svgwidgets.SVGWidget()\n",
      "\n",
      "rect = svgwidgets.RectWidget()\n",
      "circle = svgwidgets.CircleWidget()\n",
      "ellipse = svgwidgets.EllipseWidget()\n",
      "line = svgwidgets.LineWidget()\n",
      "path = svgwidgets.PathWidget()\n",
      "text = svgwidgets.TextWidget()\n",
      "\n",
      "\n",
      "svg.children = [rect,circle,ellipse,line,path,text]\n",
      "\n",
      "display(svg)"
     ],
     "language": "python",
     "metadata": {},
     "outputs": [],
     "prompt_number": 2
    },
    {
     "cell_type": "code",
     "collapsed": false,
     "input": [
      "# changes to the traitlets (listed in element.keys) are dynamically updated\n",
      "text.content = \"Goodbye planet!\"\n",
      "rect.fill = \"orange\"\n",
      "rect.stroke_width = 0\n",
      "ellipse.fill_opacity = 0.2\n",
      "svg.height = 250"
     ],
     "language": "python",
     "metadata": {},
     "outputs": [],
     "prompt_number": 3
    },
    {
     "cell_type": "code",
     "collapsed": false,
     "input": [
      "#try dragging the rectangle around and see what happens to the transform trailet\n",
      "rect.transform"
     ],
     "language": "python",
     "metadata": {},
     "outputs": [
      {
       "metadata": {},
       "output_type": "pyout",
       "prompt_number": 4,
       "text": [
        "u''"
       ]
      }
     ],
     "prompt_number": 4
    },
    {
     "cell_type": "markdown",
     "metadata": {},
     "source": [
      "# Example of algorithmically added SVG elements\n",
      "\n",
      "Multiple elements are added in list comprehensions."
     ]
    },
    {
     "cell_type": "code",
     "collapsed": false,
     "input": [
      "colors = [\"red\",\"orange\",\"yellow\",\"green\",\"blue\"]\n",
      "\n",
      "svg = svgwidgets.SVGWidget()\n",
      "\n",
      "svg.height = 150\n",
      "svg.children = [svgwidgets.RectWidget(x=15+i*30,y=10,width=20,height=80,fill=color,stroke=\"black\") for i,color in enumerate(colors)] + \\\n",
      "               [svgwidgets.CircleWidget(cx=25+i*30,cy=110,rx=15,fill=color,stroke=\"black\") for i,color in enumerate(colors)]\n",
      "    \n",
      "display(svg)"
     ],
     "language": "python",
     "metadata": {},
     "outputs": [
      {
       "output_type": "stream",
       "stream": "stdout",
       "text": [
        "<svg width=\"600\" height=\"150\"><rect width=\"20\" stroke=\"black\" transform=\"\" fill-opacity=\"0.5\" y=\"10\" x=\"15\" fill=\"red\" stroke-width=\"3\" height=\"80\"></rect><rect width=\"20\" stroke=\"black\" transform=\"\" fill-opacity=\"0.5\" y=\"10\" x=\"45\" fill=\"orange\" stroke-width=\"3\" height=\"80\"></rect><rect width=\"20\" stroke=\"black\" transform=\"\" fill-opacity=\"0.5\" y=\"10\" x=\"75\" fill=\"yellow\" stroke-width=\"3\" height=\"80\"></rect><rect width=\"20\" stroke=\"black\" transform=\"\" fill-opacity=\"0.5\" y=\"10\" x=\"105\" fill=\"green\" stroke-width=\"3\" height=\"80\"></rect><rect width=\"20\" stroke=\"black\" transform=\"\" fill-opacity=\"0.5\" y=\"10\" x=\"135\" fill=\"blue\" stroke-width=\"3\" height=\"80\"></rect><circle stroke-width=\"3\" cy=\"110\" cx=\"25\" fill-opacity=\"0.5\" r=\"20\" stroke=\"black\" transform=\"\" fill=\"red\"></circle><circle stroke-width=\"3\" cy=\"110\" cx=\"55\" fill-opacity=\"0.5\" r=\"20\" stroke=\"black\" transform=\"\" fill=\"orange\"></circle><circle stroke-width=\"3\" cy=\"110\" cx=\"85\" fill-opacity=\"0.5\" r=\"20\" stroke=\"black\" transform=\"\" fill=\"yellow\"></circle><circle stroke-width=\"3\" cy=\"110\" cx=\"115\" fill-opacity=\"0.5\" r=\"20\" stroke=\"black\" transform=\"\" fill=\"green\"></circle><circle stroke-width=\"3\" cy=\"110\" cx=\"145\" fill-opacity=\"0.5\" r=\"20\" stroke=\"black\" transform=\"\" fill=\"blue\"></circle></svg>\n"
       ]
      }
     ],
     "prompt_number": 5
    },
    {
     "cell_type": "code",
     "collapsed": false,
     "input": [
      "# send the SVG XML to the screen\n",
      "svg.get_html()"
     ],
     "language": "python",
     "metadata": {},
     "outputs": [],
     "prompt_number": 6
    },
    {
     "cell_type": "markdown",
     "metadata": {},
     "source": [
      "# Create SVG with the builder GUI"
     ]
    },
    {
     "cell_type": "code",
     "collapsed": false,
     "input": [
      "builder = svgwidgets.SVGBuilderWidget()\n",
      "display(builder)"
     ],
     "language": "python",
     "metadata": {},
     "outputs": [],
     "prompt_number": 7
    },
    {
     "cell_type": "code",
     "collapsed": false,
     "input": [
      "builder.svg.mode = \"ellipse\"\n",
      "builder.svg.children"
     ],
     "language": "python",
     "metadata": {},
     "outputs": [
      {
       "metadata": {},
       "output_type": "pyout",
       "prompt_number": 8,
       "text": [
        "(<svgwidgets.RectWidget at 0x7fd9700a2550>,\n",
        " <svgwidgets.RectWidget at 0x7fd970074f90>)"
       ]
      }
     ],
     "prompt_number": 8
    },
    {
     "cell_type": "code",
     "collapsed": false,
     "input": [],
     "language": "python",
     "metadata": {},
     "outputs": []
    }
   ],
   "metadata": {}
  }
 ]
}