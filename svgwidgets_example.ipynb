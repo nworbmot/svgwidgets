{
 "metadata": {
  "name": "",
  "signature": "sha256:c0e075ee10c812d11cd5ddcc7749a3f0d39f8899511f9d6c7a705beb342b5128"
 },
 "nbformat": 3,
 "nbformat_minor": 0,
 "worksheets": [
  {
   "cells": [
    {
     "cell_type": "markdown",
     "metadata": {},
     "source": [
      "# Examples of library svgwidgets: SVG widgets for the iPython notebook\n",
      "\n",
      "Get the library here:\n",
      "\n",
      "https://github.com/nworbmot/svgwidgets\n",
      "\n",
      "This is a library of Scalar Vector Graphic (SVG) widgets for the iPython notebook (widgets are available in iPython version 2.0 onwards). Widgets allow easy synchronisation of objects between the Python backend and Javascript/DOM frontend. This library implements this functionality for SVG elements.\n",
      "\n",
      "Currently it is only a demonstration of the functionality; more useful features will be added soon.\n",
      "\n",
      "Some basic examples are shown here."
     ]
    },
    {
     "cell_type": "code",
     "collapsed": false,
     "input": [
      "import svgwidgets"
     ],
     "language": "python",
     "metadata": {},
     "outputs": [],
     "prompt_number": 11
    },
    {
     "cell_type": "markdown",
     "metadata": {},
     "source": [
      "## Example of different elements, added individually\n",
      "\n",
      "Each SVG widget has defaults for positions and styles which can be changed.\n",
      "\n",
      "There is a widget for each SVG element.\n",
      "\n",
      "SVGWidget and GroupWidget can have child elements, which are added with element.children = [child1,child2,..] just like the standard iPython ContainerWidget."
     ]
    },
    {
     "cell_type": "code",
     "collapsed": false,
     "input": [
      "\n",
      "svg = svgwidgets.SVGWidget()\n",
      "\n",
      "rect = svgwidgets.RectWidget()\n",
      "circle = svgwidgets.CircleWidget()\n",
      "ellipse = svgwidgets.EllipseWidget()\n",
      "line = svgwidgets.LineWidget()\n",
      "path = svgwidgets.PathWidget()\n",
      "text = svgwidgets.TextWidget()\n",
      "\n",
      "svg.children = [rect,circle,ellipse,line,path,text]\n",
      "\n",
      "display(svg)"
     ],
     "language": "python",
     "metadata": {},
     "outputs": [],
     "prompt_number": 12
    },
    {
     "cell_type": "code",
     "collapsed": false,
     "input": [
      "# changes to the traitlets (listed in element.keys) are dynamically updated\n",
      "text.content = \"Goodbye planet!\"\n",
      "rect.fill = \"orange\"\n",
      "svg.height = 250"
     ],
     "language": "python",
     "metadata": {},
     "outputs": [],
     "prompt_number": 13
    },
    {
     "cell_type": "code",
     "collapsed": false,
     "input": [
      "#try dragging the rectangle around and see what happens to the transform trailet\n",
      "rect.transform"
     ],
     "language": "python",
     "metadata": {},
     "outputs": [
      {
       "metadata": {},
       "output_type": "pyout",
       "prompt_number": 15,
       "text": [
        "u'translate(62,61)'"
       ]
      }
     ],
     "prompt_number": 15
    },
    {
     "cell_type": "markdown",
     "metadata": {},
     "source": [
      "# Example of algorithmically added SVG elements\n",
      "\n",
      "Multiple elements are added in list comprehensions."
     ]
    },
    {
     "cell_type": "code",
     "collapsed": false,
     "input": [
      "colors = [\"red\",\"orange\",\"yellow\",\"green\",\"blue\"]\n",
      "\n",
      "svg = svgwidgets.SVGWidget()\n",
      "\n",
      "svg.height = 150\n",
      "svg.children = [svgwidgets.RectWidget(x=15+i*30,y=10,width=20,height=80,fill=color,stroke=\"black\") for i,color in enumerate(colors)] + \\\n",
      "               [svgwidgets.CircleWidget(cx=25+i*30,cy=110,rx=15,fill=color,stroke=\"black\") for i,color in enumerate(colors)]\n",
      "    \n",
      "display(svg)"
     ],
     "language": "python",
     "metadata": {},
     "outputs": [],
     "prompt_number": 16
    },
    {
     "cell_type": "code",
     "collapsed": false,
     "input": [],
     "language": "python",
     "metadata": {},
     "outputs": []
    }
   ],
   "metadata": {}
  }
 ]
}