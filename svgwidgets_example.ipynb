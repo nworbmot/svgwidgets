{
 "metadata": {
  "name": "",
  "signature": "sha256:39c6855067b231ebf3503bd1407c5392027e6c4300a6993ac1c57870b1a68894"
 },
 "nbformat": 3,
 "nbformat_minor": 0,
 "worksheets": [
  {
   "cells": [
    {
     "cell_type": "code",
     "collapsed": false,
     "input": [
      "import svgwidgets"
     ],
     "language": "python",
     "metadata": {},
     "outputs": [],
     "prompt_number": 9
    },
    {
     "cell_type": "code",
     "collapsed": false,
     "input": [
      "svg = svgwidgets.SVGWidget()\n",
      "\n",
      "rect = svgwidgets.RectWidget()\n",
      "circle = svgwidgets.CircleWidget()\n",
      "ellipse = svgwidgets.EllipseWidget()\n",
      "line = svgwidgets.LineWidget()\n",
      "path = svgwidgets.PathWidget()\n",
      "\n",
      "\n",
      "svg.children = [rect,circle,ellipse,line,path]\n",
      "\n",
      "display(svg)"
     ],
     "language": "python",
     "metadata": {},
     "outputs": [],
     "prompt_number": 10
    },
    {
     "cell_type": "code",
     "collapsed": false,
     "input": [
      "#try dragging the shapes around and see what happens\n",
      "rect.transform"
     ],
     "language": "python",
     "metadata": {},
     "outputs": [
      {
       "metadata": {},
       "output_type": "pyout",
       "prompt_number": 11,
       "text": [
        "u''"
       ]
      }
     ],
     "prompt_number": 11
    },
    {
     "cell_type": "code",
     "collapsed": false,
     "input": [
      "colors = [\"red\",\"orange\",\"yellow\",\"green\",\"blue\"]\n",
      "\n",
      "svg.height = 150\n",
      "svg.children = [svgwidgets.RectWidget(x=15+i*30,y=10,width=20,height=80,fill=color,stroke=\"black\") for i,color in enumerate(colors)] + \\\n",
      "               [svgwidgets.CircleWidget(cx=25+i*30,cy=110,rx=15,fill=color,stroke=\"black\") for i,color in enumerate(colors)]"
     ],
     "language": "python",
     "metadata": {},
     "outputs": [],
     "prompt_number": 12
    },
    {
     "cell_type": "code",
     "collapsed": false,
     "input": [],
     "language": "python",
     "metadata": {},
     "outputs": []
    }
   ],
   "metadata": {}
  }
 ]
}